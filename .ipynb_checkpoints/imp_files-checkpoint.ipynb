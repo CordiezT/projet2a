{
 "cells": [
  {
   "cell_type": "code",
   "execution_count": 1,
   "metadata": {},
   "outputs": [],
   "source": [
    "\"\"\" Importation des instances pour les noeuds et pour les requêtes client \"\"\"\n",
    "\n",
    "import csv\n",
    "\n",
    "file1 = \"coord_10_noeuds.csv\"\n",
    "file2 = \"petite_instance_1.csv\"\n",
    "\n",
    "N=[] # liste de l'ensemble des noeuds\n",
    "R=[] # liste de l'ensemble des requêtes\n",
    "\n",
    "with open(file1, newline='') as f: # ouverture du fichier\n",
    "    reader = csv.reader(f, delimiter=';')\n",
    "    for i in range(2): # saut des entêtes\n",
    "        next(reader)\n",
    "    for rec in reader: # remplissage de la liste\n",
    "        N.append([rec[0]]+[int(x) for x in rec[1:]])\n",
    "\n",
    "with open(file2, newline='') as f: # ouverture du fichier\n",
    "    reader = csv.reader(f, delimiter=';')\n",
    "    for i in range(7): # saut des entêtes\n",
    "        next(reader)\n",
    "    for rec in reader: # remplissage de la liste\n",
    "        R.append(rec[:3]+[int(x) for x in rec[3:]])\n",
    "\n"
   ]
  },
  {
   "cell_type": "code",
   "execution_count": null,
   "metadata": {},
   "outputs": [],
   "source": []
  }
 ],
 "metadata": {
  "kernelspec": {
   "display_name": "Python 3",
   "language": "python",
   "name": "python3"
  },
  "language_info": {
   "codemirror_mode": {
    "name": "ipython",
    "version": 3
   },
   "file_extension": ".py",
   "mimetype": "text/x-python",
   "name": "python",
   "nbconvert_exporter": "python",
   "pygments_lexer": "ipython3",
   "version": "3.7.4"
  }
 },
 "nbformat": 4,
 "nbformat_minor": 4
}
